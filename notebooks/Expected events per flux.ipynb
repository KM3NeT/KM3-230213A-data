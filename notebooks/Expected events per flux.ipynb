{
 "cells": [
  {
   "cell_type": "markdown",
   "metadata": {},
   "source": [
    "# Table of number of expected events for various fluxes\n",
    "\n",
    "This notebook shows how to compute the number of expected events in KM3NeT/ARCA for a given input neutrino flux. In particular, we focus on the fluxes presented in the Supplementary materials of the paper i.e., IceCube Single Power-Law best-fits and various models."
   ]
  },
  {
   "cell_type": "code",
   "execution_count": 1,
   "metadata": {},
   "outputs": [],
   "source": [
    "import sys\n",
    "\n",
    "import numpy as np\n",
    "import pandas as pd\n",
    "from scipy.integrate import trapezoid\n",
    "from scipy.interpolate import interp1d\n",
    "\n",
    "sys.path.append(\"../src\")\n",
    "from fluxmethods import SinglePowerLawFlux, SEDFlux"
   ]
  },
  {
   "cell_type": "markdown",
   "metadata": {},
   "source": [
    "# Inputs"
   ]
  },
  {
   "cell_type": "markdown",
   "metadata": {},
   "source": [
    "### KM3NeT inputs"
   ]
  },
  {
   "cell_type": "markdown",
   "metadata": {},
   "source": [
    "The sky-averaged all-flavour $\\nu+\\bar\\nu$ effective area $A_{\\rm eff}(E)$ is used to compute the flux needed to get one expected event in KM3NeT, assuming a per-flavour $\\nu+\\bar\\nu$ neutrino spectrum $\\Phi(E)$.\n",
    "$$N_{\\rm exp} = 4\\pi \\times T_{\\rm livetime} \\times \\times 1/2 \\times \\int A_{\\rm eff}(E) \\times \\Phi(E) {\\rm d}E$$"
   ]
  },
  {
   "cell_type": "code",
   "execution_count": 2,
   "metadata": {},
   "outputs": [],
   "source": [
    "livetime_arca = 335 * 86400  # in seconds\n",
    "df_aeff_arca = pd.read_json(\"../data/supplementary/simulations/effective_area_brighttrackselection_allflavour_skyavg.json\")\n",
    "x_aeff_arca, y_aeff_arca = df_aeff_arca[\"Energy [GeV]\"], df_aeff_arca[\"Aeff [cm^2]\"]\n",
    "f_aeff_arca = interp1d(x_aeff_arca, y_aeff_arca, bounds_error=False, fill_value=0)\n",
    "\n",
    "energy5_evt, energy50_evt, energy95_evt = 7.24e7, 2.18e8, 2.57e9"
   ]
  },
  {
   "cell_type": "code",
   "execution_count": 3,
   "metadata": {},
   "outputs": [],
   "source": [
    "models_cosmogenic = [\n",
    "    \"Aloisio+[1505.04020]\", \"Berat+[2402.04759]\", \"Boncioli+[1808.07481]\", \"Condorelli+[2209.08593]\",\n",
    "    \"Ehlert+[2304.07321]\", \"Muzio+[2209.08068]\", \"Muzio+[2303.04170]\", \"PAO+[2211.02857]\", \n",
    "    \"Winter+[1901.03338]\",  \"Zhang+[1812.10289]\"\n",
    "]\n",
    "\n",
    "models_source = [\n",
    "    \"Boncioli+[1808.07481]_LL-GRB\", \"Fang+[1311.2044]\", \"Rodrigues+[2003.08392v3]\",\n",
    "    \"Rodrigues+[2307.13024]_Sample_BLLacs\", \"Rodrigues+[2307.13024]_Sample_SFRQ\", \"Tamborra+[1504.00107v2]_LL-GRB\",\n",
    "    \"Tamborra+[1504.00107v2]_s-GRB\", \"Winter+[2205.11538v3]_TDE\"\n",
    "]"
   ]
  },
  {
   "cell_type": "code",
   "execution_count": 4,
   "metadata": {},
   "outputs": [],
   "source": [
    "icecube_singlepowerlaw_bestfit = pd.read_json(\"../data/external/flux_constraints/icecube_spl_bestfit.json\")"
   ]
  },
  {
   "cell_type": "markdown",
   "metadata": {},
   "source": [
    "# Results"
   ]
  },
  {
   "cell_type": "markdown",
   "metadata": {},
   "source": [
    "### Table of number of expected events"
   ]
  },
  {
   "cell_type": "code",
   "execution_count": 5,
   "metadata": {},
   "outputs": [],
   "source": [
    "def nexpected(flux: SEDFlux | SinglePowerLawFlux, energy_range: tuple | None = None) -> float:\n",
    "    \"\"\"Compute the number of expected events for a given flux in a given energy range.\"\"\"\n",
    "    \n",
    "    if energy_range is None:\n",
    "        x = np.logspace(5, 11, 601)\n",
    "    else:\n",
    "        x = np.logspace(*np.log10(energy_range), 601)\n",
    "    y = f_aeff_arca(x) * flux(x)\n",
    "    \n",
    "    return trapezoid(y, x=x, axis=0) * (livetime_arca * 4*np.pi)\n",
    "\n",
    "def get_nexpecteds(flux: SEDFlux | SinglePowerLawFlux) -> float:\n",
    "    \"\"\"Return the number of expected events for a given flux, in the full energy range and in the central 90% KM3-230213A neutrinu energy range.\"\"\"\n",
    "    \n",
    "    return (nexpected(flux), nexpected(flux, (energy5_evt, energy95_evt)))"
   ]
  },
  {
   "cell_type": "code",
   "execution_count": 6,
   "metadata": {},
   "outputs": [
    {
     "data": {
      "text/html": [
       "<div>\n",
       "<style scoped>\n",
       "    .dataframe tbody tr th:only-of-type {\n",
       "        vertical-align: middle;\n",
       "    }\n",
       "\n",
       "    .dataframe tbody tr th {\n",
       "        vertical-align: top;\n",
       "    }\n",
       "\n",
       "    .dataframe thead th {\n",
       "        text-align: right;\n",
       "    }\n",
       "</style>\n",
       "<table border=\"1\" class=\"dataframe\">\n",
       "  <thead>\n",
       "    <tr style=\"text-align: right;\">\n",
       "      <th></th>\n",
       "      <th>Total Events</th>\n",
       "      <th>Events in Central 90% Energy Range of KM3-230213A</th>\n",
       "    </tr>\n",
       "  </thead>\n",
       "  <tbody>\n",
       "    <tr>\n",
       "      <th>IceCube/NST</th>\n",
       "      <td>0.117431</td>\n",
       "      <td>1.425374e-02</td>\n",
       "    </tr>\n",
       "    <tr>\n",
       "      <th>IceCube/ESTES</th>\n",
       "      <td>0.052083</td>\n",
       "      <td>3.428880e-03</td>\n",
       "    </tr>\n",
       "    <tr>\n",
       "      <th>IceCube/HESE</th>\n",
       "      <td>0.019698</td>\n",
       "      <td>5.090497e-04</td>\n",
       "    </tr>\n",
       "    <tr>\n",
       "      <th>Aloisio+[1505.04020]</th>\n",
       "      <td>0.469495</td>\n",
       "      <td>1.586657e-02</td>\n",
       "    </tr>\n",
       "    <tr>\n",
       "      <th>Berat+[2402.04759]</th>\n",
       "      <td>0.001438</td>\n",
       "      <td>3.958025e-04</td>\n",
       "    </tr>\n",
       "    <tr>\n",
       "      <th>Boncioli+[1808.07481]</th>\n",
       "      <td>0.012525</td>\n",
       "      <td>4.039573e-03</td>\n",
       "    </tr>\n",
       "    <tr>\n",
       "      <th>Condorelli+[2209.08593]</th>\n",
       "      <td>0.002011</td>\n",
       "      <td>4.576365e-04</td>\n",
       "    </tr>\n",
       "    <tr>\n",
       "      <th>Ehlert+[2304.07321]</th>\n",
       "      <td>0.242767</td>\n",
       "      <td>2.111172e-01</td>\n",
       "    </tr>\n",
       "    <tr>\n",
       "      <th>Muzio+[2209.08068]</th>\n",
       "      <td>0.107167</td>\n",
       "      <td>1.011525e-02</td>\n",
       "    </tr>\n",
       "    <tr>\n",
       "      <th>Muzio+[2303.04170]</th>\n",
       "      <td>0.431498</td>\n",
       "      <td>2.415788e-01</td>\n",
       "    </tr>\n",
       "    <tr>\n",
       "      <th>PAO+[2211.02857]</th>\n",
       "      <td>0.053613</td>\n",
       "      <td>3.393819e-03</td>\n",
       "    </tr>\n",
       "    <tr>\n",
       "      <th>Winter+[1901.03338]</th>\n",
       "      <td>0.002641</td>\n",
       "      <td>7.598466e-04</td>\n",
       "    </tr>\n",
       "    <tr>\n",
       "      <th>Zhang+[1812.10289]</th>\n",
       "      <td>0.247871</td>\n",
       "      <td>9.427410e-02</td>\n",
       "    </tr>\n",
       "    <tr>\n",
       "      <th>Boncioli+[1808.07481]_LL-GRB</th>\n",
       "      <td>0.152744</td>\n",
       "      <td>2.453887e-03</td>\n",
       "    </tr>\n",
       "    <tr>\n",
       "      <th>Fang+[1311.2044]</th>\n",
       "      <td>1.335689</td>\n",
       "      <td>4.715270e-01</td>\n",
       "    </tr>\n",
       "    <tr>\n",
       "      <th>Rodrigues+[2003.08392v3]</th>\n",
       "      <td>0.553614</td>\n",
       "      <td>2.609149e-01</td>\n",
       "    </tr>\n",
       "    <tr>\n",
       "      <th>Rodrigues+[2307.13024]_Sample_BLLacs</th>\n",
       "      <td>0.005075</td>\n",
       "      <td>2.804101e-06</td>\n",
       "    </tr>\n",
       "    <tr>\n",
       "      <th>Rodrigues+[2307.13024]_Sample_SFRQ</th>\n",
       "      <td>0.012353</td>\n",
       "      <td>4.281477e-05</td>\n",
       "    </tr>\n",
       "    <tr>\n",
       "      <th>Tamborra+[1504.00107v2]_LL-GRB</th>\n",
       "      <td>0.010176</td>\n",
       "      <td>5.862359e-04</td>\n",
       "    </tr>\n",
       "    <tr>\n",
       "      <th>Tamborra+[1504.00107v2]_s-GRB</th>\n",
       "      <td>0.000003</td>\n",
       "      <td>6.560264e-07</td>\n",
       "    </tr>\n",
       "    <tr>\n",
       "      <th>Winter+[2205.11538v3]_TDE</th>\n",
       "      <td>0.444677</td>\n",
       "      <td>5.458982e-02</td>\n",
       "    </tr>\n",
       "  </tbody>\n",
       "</table>\n",
       "</div>"
      ],
      "text/plain": [
       "                                      Total Events  \\\n",
       "IceCube/NST                               0.117431   \n",
       "IceCube/ESTES                             0.052083   \n",
       "IceCube/HESE                              0.019698   \n",
       "Aloisio+[1505.04020]                      0.469495   \n",
       "Berat+[2402.04759]                        0.001438   \n",
       "Boncioli+[1808.07481]                     0.012525   \n",
       "Condorelli+[2209.08593]                   0.002011   \n",
       "Ehlert+[2304.07321]                       0.242767   \n",
       "Muzio+[2209.08068]                        0.107167   \n",
       "Muzio+[2303.04170]                        0.431498   \n",
       "PAO+[2211.02857]                          0.053613   \n",
       "Winter+[1901.03338]                       0.002641   \n",
       "Zhang+[1812.10289]                        0.247871   \n",
       "Boncioli+[1808.07481]_LL-GRB              0.152744   \n",
       "Fang+[1311.2044]                          1.335689   \n",
       "Rodrigues+[2003.08392v3]                  0.553614   \n",
       "Rodrigues+[2307.13024]_Sample_BLLacs      0.005075   \n",
       "Rodrigues+[2307.13024]_Sample_SFRQ        0.012353   \n",
       "Tamborra+[1504.00107v2]_LL-GRB            0.010176   \n",
       "Tamborra+[1504.00107v2]_s-GRB             0.000003   \n",
       "Winter+[2205.11538v3]_TDE                 0.444677   \n",
       "\n",
       "                                      Events in Central 90% Energy Range of KM3-230213A  \n",
       "IceCube/NST                                                                1.425374e-02  \n",
       "IceCube/ESTES                                                              3.428880e-03  \n",
       "IceCube/HESE                                                               5.090497e-04  \n",
       "Aloisio+[1505.04020]                                                       1.586657e-02  \n",
       "Berat+[2402.04759]                                                         3.958025e-04  \n",
       "Boncioli+[1808.07481]                                                      4.039573e-03  \n",
       "Condorelli+[2209.08593]                                                    4.576365e-04  \n",
       "Ehlert+[2304.07321]                                                        2.111172e-01  \n",
       "Muzio+[2209.08068]                                                         1.011525e-02  \n",
       "Muzio+[2303.04170]                                                         2.415788e-01  \n",
       "PAO+[2211.02857]                                                           3.393819e-03  \n",
       "Winter+[1901.03338]                                                        7.598466e-04  \n",
       "Zhang+[1812.10289]                                                         9.427410e-02  \n",
       "Boncioli+[1808.07481]_LL-GRB                                               2.453887e-03  \n",
       "Fang+[1311.2044]                                                           4.715270e-01  \n",
       "Rodrigues+[2003.08392v3]                                                   2.609149e-01  \n",
       "Rodrigues+[2307.13024]_Sample_BLLacs                                       2.804101e-06  \n",
       "Rodrigues+[2307.13024]_Sample_SFRQ                                         4.281477e-05  \n",
       "Tamborra+[1504.00107v2]_LL-GRB                                             5.862359e-04  \n",
       "Tamborra+[1504.00107v2]_s-GRB                                              6.560264e-07  \n",
       "Winter+[2205.11538v3]_TDE                                                  5.458982e-02  "
      ]
     },
     "execution_count": 6,
     "metadata": {},
     "output_type": "execute_result"
    }
   ],
   "source": [
    "nexps = {}\n",
    "\n",
    "# Process IceCube single power law best-fit data\n",
    "for icsample in [\"NST\", \"ESTES\", \"HESE\"]:\n",
    "    bf = icecube_singlepowerlaw_bestfit[icsample]\n",
    "    nexps[f\"IceCube/{icsample}\"] = get_nexpecteds(SinglePowerLawFlux(bf[\"norm\"], bf[\"gamma\"], e0=bf[\"e0\"]))\n",
    "\n",
    "# Process cosmogenic models\n",
    "for model in models_cosmogenic:\n",
    "    nexps[model] = get_nexpecteds(SEDFlux(f\"../data/external/flux_models/cosmogenic_{model}.json\"))\n",
    "\n",
    "# Process source models\n",
    "for model in models_source:\n",
    "    nexps[model] = get_nexpecteds(SEDFlux(f\"../data/external/flux_models/source_{model}.json\"))\n",
    "\n",
    "# Convert results to a Pandas DataFrame\n",
    "df_nexps = pd.DataFrame.from_dict(nexps, orient='index', columns=[\"Total Events\", \"Events in Central 90% Energy Range of KM3-230213A\"])\n",
    "\n",
    "# Display the DataFrame\n",
    "df_nexps"
   ]
  }
 ],
 "metadata": {
  "kernelspec": {
   "display_name": "Python 3 (ipykernel)",
   "language": "python",
   "name": "python3"
  },
  "language_info": {
   "codemirror_mode": {
    "name": "ipython",
    "version": 3
   },
   "file_extension": ".py",
   "mimetype": "text/x-python",
   "name": "python",
   "nbconvert_exporter": "python",
   "pygments_lexer": "ipython3",
   "version": "3.11.6"
  },
  "vscode": {
   "interpreter": {
    "hash": "1b94ffff83ce207601abf3947b8f746c4495a7f193ad19cd5dcefe352ef98ae1"
   }
  }
 },
 "nbformat": 4,
 "nbformat_minor": 4
}

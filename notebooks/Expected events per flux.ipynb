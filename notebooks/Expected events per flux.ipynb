{
 "cells": [
  {
   "cell_type": "markdown",
   "metadata": {},
   "source": [
    "# Table of number of expected events for various fluxes\n",
    "\n",
    "This notebook shows how to compute the number of expected events in KM3NeT/ARCA for a given input neutrino flux. In particular, we focus on the fluxes presented in the Supplementary materials of the paper i.e., IceCube Single Power-Law best-fits and various models."
   ]
  },
  {
   "cell_type": "code",
   "execution_count": 7,
   "metadata": {},
   "outputs": [],
   "source": [
    "import sys\n",
    "\n",
    "import numpy as np\n",
    "import pandas as pd\n",
    "from scipy.integrate import trapezoid\n",
    "from scipy.interpolate import interp1d\n",
    "\n",
    "sys.path.append(\"../src\")\n",
    "from fluxmethods import SinglePowerLawFlux, SEDFlux"
   ]
  },
  {
   "cell_type": "markdown",
   "metadata": {},
   "source": [
    "# Inputs"
   ]
  },
  {
   "cell_type": "markdown",
   "metadata": {},
   "source": [
    "### KM3NeT inputs"
   ]
  },
  {
   "cell_type": "markdown",
   "metadata": {},
   "source": [
    "The sky-averaged all-flavour $\\nu+\\bar\\nu$ effective area $A_{\\rm eff}(E)$ is used to compute the flux needed to get one expected event in KM3NeT, assuming a per-flavour $\\nu+\\bar\\nu$ neutrino spectrum $\\Phi(E)$.\n",
    "$$N_{\\rm exp} = 4\\pi \\times T_{\\rm livetime} \\times \\times 1/2 \\times \\int A_{\\rm eff}(E) \\times \\Phi(E) {\\rm d}E$$"
   ]
  },
  {
   "cell_type": "code",
   "execution_count": 8,
   "metadata": {},
   "outputs": [],
   "source": [
    "livetime_arca = 335 * 86400  # in seconds\n",
    "df_aeff_arca = pd.read_json(\"../data/supplementary/simulations/effective_area_brighttrackselection_allflavour_skyavg.json\")\n",
    "x_aeff_arca, y_aeff_arca = df_aeff_arca[\"Energy [GeV]\"], df_aeff_arca[\"Aeff [cm^2]\"]\n",
    "f_aeff_arca = interp1d(x_aeff_arca, y_aeff_arca, bounds_error=False, fill_value=0)\n",
    "\n",
    "energy5_evt, energy50_evt, energy95_evt = 7.24e7, 2.18e8, 2.57e9"
   ]
  },
  {
   "cell_type": "code",
   "execution_count": 9,
   "metadata": {},
   "outputs": [],
   "source": [
    "models_cosmogenic = [\n",
    "    \"Aloisio+[1505.04020]\", \"Berat+[2402.04759]\", \"Boncioli+[1808.07481]\", \"Condorelli+[2209.08593]\",\n",
    "    \"Ehlert+[2304.07321]\", \"Muzio+[2209.08068]\", \"Muzio+[2303.04170]\", \"PAO+[2211.02857]\", \n",
    "    \"Winter+[1901.03338]\",  \"Zhang+[1812.10289]\"\n",
    "]\n",
    "\n",
    "models_source = [\n",
    "    \"Boncioli+[1808.07481]_LL-GRB\", \"Fang+[1311.2044]\", \"Rodrigues+[2003.08392v3]\",\n",
    "    \"Rodrigues+[2307.13024]_Sample_BLLacs\", \"Rodrigues+[2307.13024]_Sample_SFRQ\", \"Tamborra+[1504.00107v2]_LL-GRB\",\n",
    "    \"Tamborra+[1504.00107v2]_s-GRB\", \"Winter+[2205.11538v3]_TDE\"\n",
    "]"
   ]
  },
  {
   "cell_type": "code",
   "execution_count": 10,
   "metadata": {},
   "outputs": [],
   "source": [
    "icecube_singlepowerlaw_bestfit = pd.read_json(\"../data/external/flux_constraints/icecube_spl_bestfit.json\")"
   ]
  },
  {
   "cell_type": "markdown",
   "metadata": {},
   "source": [
    "# Results"
   ]
  },
  {
   "cell_type": "markdown",
   "metadata": {},
   "source": [
    "### Table of number of expected events"
   ]
  },
  {
   "cell_type": "code",
   "execution_count": 11,
   "metadata": {},
   "outputs": [],
   "source": [
    "def nexpected(flux: SEDFlux | SinglePowerLawFlux, energy_range: tuple | None = None) -> float:\n",
    "    \"\"\"Compute the number of expected events for a given flux in a given energy range.\"\"\"\n",
    "    if energy_range is None:\n",
    "        x = np.logspace(5, 11, 601)\n",
    "    else:\n",
    "        x = np.logspace(*np.log10(energy_range), 601)\n",
    "    y = f_aeff_arca(x) * flux(x)\n",
    "    return trapezoid(y, x=x, axis=0) * (livetime_arca * 4*np.pi)\n",
    "\n",
    "def get_nexpecteds(flux: SEDFlux | SinglePowerLawFlux) -> float:\n",
    "    \"\"\"Return the number of expected events for a given flux, in the full energy range and in the central 90% KM3-230213A neutrinu energy range.\"\"\"\n",
    "    return (nexpected(flux), nexpected(flux, (energy5_evt, energy95_evt)))"
   ]
  },
  {
   "cell_type": "code",
   "execution_count": 12,
   "metadata": {},
   "outputs": [
    {
     "name": "stdout",
     "output_type": "stream",
     "text": [
      "Considered flux \t\t\t (total number of events)\t(number of events in the central 90% energy range of KM3-230213A)\n",
      "=========================================================================================================================================\n",
      "IceCube/NST                         \t 0.12\t\t\t\t0.014\n",
      "IceCube/ESTES                       \t 0.052\t\t\t\t0.0034\n",
      "IceCube/HESE                        \t 0.02\t\t\t\t0.00051\n",
      "Aloisio+[1505.04020]                \t 0.47\t\t\t\t0.016\n",
      "Berat+[2402.04759]                  \t 0.0014\t\t\t\t0.0004\n",
      "Boncioli+[1808.07481]               \t 0.013\t\t\t\t0.004\n",
      "Condorelli+[2209.08593]             \t 0.002\t\t\t\t0.00046\n",
      "Ehlert+[2304.07321]                 \t 0.24\t\t\t\t0.21\n",
      "Muzio+[2209.08068]                  \t 0.11\t\t\t\t0.01\n",
      "Muzio+[2303.04170]                  \t 0.43\t\t\t\t0.24\n",
      "PAO+[2211.02857]                    \t 0.054\t\t\t\t0.0034\n",
      "Winter+[1901.03338]                 \t 0.0026\t\t\t\t0.00076\n",
      "Zhang+[1812.10289]                  \t 0.25\t\t\t\t0.094\n",
      "Boncioli+[1808.07481]_LL-GRB        \t 0.15\t\t\t\t0.0025\n",
      "Fang+[1311.2044]                    \t 1.3\t\t\t\t0.47\n",
      "Rodrigues+[2003.08392v3]            \t 0.55\t\t\t\t0.26\n",
      "Rodrigues+[2307.13024]_Sample_BLLacs \t 0.0051\t\t\t\t2.8e-06\n",
      "Rodrigues+[2307.13024]_Sample_SFRQ  \t 0.012\t\t\t\t4.3e-05\n",
      "Tamborra+[1504.00107v2]_LL-GRB      \t 0.01\t\t\t\t0.00059\n",
      "Tamborra+[1504.00107v2]_s-GRB       \t 2.8e-06\t\t\t\t6.6e-07\n",
      "Winter+[2205.11538v3]_TDE           \t 0.44\t\t\t\t0.055\n"
     ]
    }
   ],
   "source": [
    "nexps = {}\n",
    "for icsample in [\"NST\", \"ESTES\", \"HESE\"]:\n",
    "    bf = icecube_singlepowerlaw_bestfit[icsample]\n",
    "    nexps[f\"IceCube/{icsample}\"] = get_nexpecteds(SinglePowerLawFlux(bf[\"norm\"], bf[\"gamma\"], e0=bf[\"e0\"]))\n",
    "for model in models_cosmogenic:\n",
    "    nexps[model] = get_nexpecteds(SEDFlux(f\"../data/external/flux_models/cosmogenic_{model}.json\"))\n",
    "for model in models_source:\n",
    "    nexps[model] = get_nexpecteds(SEDFlux(f\"../data/external/flux_models/source_{model}.json\"))\n",
    "\n",
    "print(\"Considered flux \\t\\t\\t (total number of events)\\t(number of events in the central 90% energy range of KM3-230213A)\")\n",
    "print(\"=========================================================================================================================================\")\n",
    "for k, nexp in nexps.items():\n",
    "    print(f\"{k:35s} \\t {nexp[0]:.2g}\\t\\t\\t\\t{nexp[1]:.2g}\")"
   ]
  }
 ],
 "metadata": {
  "kernelspec": {
   "display_name": "Python 3 (ipykernel)",
   "language": "python",
   "name": "python3"
  },
  "language_info": {
   "codemirror_mode": {
    "name": "ipython",
    "version": 3
   },
   "file_extension": ".py",
   "mimetype": "text/x-python",
   "name": "python",
   "nbconvert_exporter": "python",
   "pygments_lexer": "ipython3",
   "version": "3.11.6"
  },
  "vscode": {
   "interpreter": {
    "hash": "1b94ffff83ce207601abf3947b8f746c4495a7f193ad19cd5dcefe352ef98ae1"
   }
  }
 },
 "nbformat": 4,
 "nbformat_minor": 4
}

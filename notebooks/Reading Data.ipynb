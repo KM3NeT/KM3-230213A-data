{
 "cells": [
  {
   "cell_type": "markdown",
   "id": "8c4fdbf1-7ce8-4f2f-ac13-ce7b4cf44a01",
   "metadata": {},
   "source": [
    "# Using the data\n",
    "\n",
    "In the folder /data, you can find the relevant input to the notebooks and scripts provided here. The content is described in more detail in the README of the folder. Due to their large size, some files (simulation and topological data) are not provided in the repository, but through the KM3NeT Open Data Centre. With this notebook, you can\n",
    "\n",
    "- retrieve all available data from the Open Data Centre\n",
    "- read event information from the VOEvent file\n",
    "- read and compare the hit distributions of the event"
   ]
  },
  {
   "cell_type": "code",
   "execution_count": 1,
   "id": "70f01fd6-d8d6-443e-9977-c4335da47e1b",
   "metadata": {},
   "outputs": [],
   "source": [
    "import sys\n",
    "\n",
    "sys.path.append(\"../src\")\n",
    "\n",
    "from data_access import download_from_odc, get_event"
   ]
  },
  {
   "cell_type": "markdown",
   "id": "914cf0f1-aedd-4e58-a9b3-0ae1936e101c",
   "metadata": {},
   "source": [
    "## Download the full data repository\n",
    "\n",
    "The full `/data` repository is available for download at the Open Data Centre: https://opendata.km3net.de/dataset.xhtml?persistentId=doi:10.5072/FK2/JW72C9\n",
    "\n",
    "You can directly download all files that are not yet locally available by calling the download_from_odc function. Provide a filepath 'output_dir' to store the files at a different location than the data folder of the repository."
   ]
  },
  {
   "cell_type": "code",
   "execution_count": 2,
   "id": "7a023f27-e0f6-49fa-8d73-c4f01c833842",
   "metadata": {
    "scrolled": true
   },
   "outputs": [
    {
     "name": "stdout",
     "output_type": "stream",
     "text": [
      "Failed to retrieve dataset metadata: 401\n"
     ]
    }
   ],
   "source": [
    "download_from_odc()"
   ]
  },
  {
   "cell_type": "markdown",
   "id": "4d79dfad-3005-4bf2-b318-7c89062a17b0",
   "metadata": {},
   "source": [
    "## Reading the event data\n",
    "\n",
    "The observation results are provided in the [VOEvent](https://voevent.readthedocs.io/en/latest/parse.htmlVOEvent) format and used as reference in these notebooks. To retrieve the values from the file at `/data/event/KM3-230213A_voevent.xml`, use the parsed file:"
   ]
  },
  {
   "cell_type": "code",
   "execution_count": 3,
   "id": "c3c2b476-3b96-41ee-b24b-c61dea25d213",
   "metadata": {},
   "outputs": [
    {
     "name": "stdout",
     "output_type": "stream",
     "text": [
      "Name1 RA\n",
      "Name2 Dec\n",
      "Value2 None\n",
      "Error2Radius99 3.0\n",
      "Error2Radius90 2.2\n",
      "Error2Radius68 1.5\n",
      "Error2Radius50 1.2\n"
     ]
    }
   ],
   "source": [
    "event = get_event()\n",
    "\n",
    "for child in event.WhereWhen.ObsDataLocation.ObservationLocation.AstroCoords.Position2D.iterchildren():\n",
    "    print(child.tag, child.text)"
   ]
  },
  {
   "cell_type": "code",
   "execution_count": 4,
   "id": "c66876cf-87d1-460e-841d-88d2c05454ad",
   "metadata": {},
   "outputs": [
    {
     "data": {
      "text/plain": [
       "(94.3, -7.8)"
      ]
     },
     "execution_count": 4,
     "metadata": {},
     "output_type": "execute_result"
    }
   ],
   "source": [
    "pos = (event.WhereWhen.ObsDataLocation.ObservationLocation.AstroCoords.Position2D.Value2.C1,\n",
    "       event.WhereWhen.ObsDataLocation.ObservationLocation.AstroCoords.Position2D.Value2.C2)\n",
    "pos"
   ]
  },
  {
   "cell_type": "markdown",
   "id": "5eca8cc5-b56d-4eb1-a346-be8ab6169eec",
   "metadata": {},
   "source": [
    "## Read the full hit information\n",
    "\n",
    "The full hit information is available in the native KM3NeT Root format and a json-parsed version. Both files contain the same information. \n",
    "\n",
    "Note that a subset of modules on detection unit (DU) 27 has a preliminary and incomplete orientation calibration, resulting in a rotation of their orientation. When using the hits from the json-file through the provided functions, a correction of an observed timing offset of the hits by 5ns is applied.\n",
    "\n",
    "### From json"
   ]
  },
  {
   "cell_type": "code",
   "execution_count": 5,
   "id": "8f9beb61-be21-4395-a160-205eaf7f49f6",
   "metadata": {},
   "outputs": [
    {
     "data": {
      "text/plain": [
       "namespace(t=-1232.867378771305,\n",
       "          pos=Vec(-245.44099312085697, 433.5680178896781, 279.9263124319042),\n",
       "          dir=Vec(0.9864702733077626, 0.1635640988250655, -0.011098894343689254))"
      ]
     },
     "execution_count": 5,
     "metadata": {},
     "output_type": "execute_result"
    }
   ],
   "source": [
    "from cherenkov import Cherenkov, emission_points\n",
    "from readhits import read_zipped_json, merge_multi_hits\n",
    "\n",
    "fullevent = read_zipped_json(\"../data/event/KM3-230213A_allhits.json.gz\")\n",
    "\n",
    "fullevent.reconstructed_track"
   ]
  },
  {
   "cell_type": "markdown",
   "id": "dc0c37a4-be1b-44d1-a3dd-99086bb22278",
   "metadata": {},
   "source": [
    "### From ROOT\n",
    "\n",
    "Or read the ROOT-file using [km3io](https://git.km3net.de/km3py/km3io)"
   ]
  },
  {
   "cell_type": "code",
   "execution_count": 6,
   "id": "fb3a0542-a3a5-442e-abf0-86977e21d64e",
   "metadata": {},
   "outputs": [],
   "source": [
    "import km3io"
   ]
  },
  {
   "cell_type": "code",
   "execution_count": 7,
   "id": "7555b9c4-46a8-4ea8-92ed-1667d490c5e3",
   "metadata": {},
   "outputs": [],
   "source": [
    "event_root = km3io.OfflineReader(\"../data/event/KM3-230213A_allhits.root\")\n",
    "\n",
    "reco = event_root.tracks[0]"
   ]
  },
  {
   "cell_type": "code",
   "execution_count": 8,
   "id": "1b0ba603-8c0c-4f3c-af3c-465ec4d206e1",
   "metadata": {},
   "outputs": [
    {
     "data": {
      "text/plain": [
       "(28141366.35162123, -245.44099312085697, 433.5680178896781, 279.9263124319042)"
      ]
     },
     "execution_count": 8,
     "metadata": {},
     "output_type": "execute_result"
    }
   ],
   "source": [
    "reco[0].t ,reco[0].pos_x, reco[0].pos_y, reco[0].pos_z"
   ]
  }
 ],
 "metadata": {
  "kernelspec": {
   "display_name": "Python 3 (ipykernel)",
   "language": "python",
   "name": "python3"
  },
  "language_info": {
   "codemirror_mode": {
    "name": "ipython",
    "version": 3
   },
   "file_extension": ".py",
   "mimetype": "text/x-python",
   "name": "python",
   "nbconvert_exporter": "python",
   "pygments_lexer": "ipython3",
   "version": "3.11.6"
  }
 },
 "nbformat": 4,
 "nbformat_minor": 5
}
